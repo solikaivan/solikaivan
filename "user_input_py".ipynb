{
  "nbformat": 4,
  "nbformat_minor": 0,
  "metadata": {
    "colab": {
      "provenance": [],
      "authorship_tag": "ABX9TyMQdMAcRc9F3db1E7khQvey",
      "include_colab_link": true
    },
    "kernelspec": {
      "name": "python3",
      "display_name": "Python 3"
    },
    "language_info": {
      "name": "python"
    }
  },
  "cells": [
    {
      "cell_type": "markdown",
      "metadata": {
        "id": "view-in-github",
        "colab_type": "text"
      },
      "source": [
        "<a href=\"https://colab.research.google.com/github/solikaivan/solikaivan/blob/main/%22user_input_py%22.ipynb\" target=\"_parent\"><img src=\"https://colab.research.google.com/assets/colab-badge.svg\" alt=\"Open In Colab\"/></a>"
      ]
    },
    {
      "cell_type": "code",
      "execution_count": 3,
      "metadata": {
        "id": "g-tZR0Fdthn3",
        "colab": {
          "base_uri": "https://localhost:8080/"
        },
        "outputId": "ca9fe5ae-be23-48df-a511-4f6982347792"
      },
      "outputs": [
        {
          "output_type": "stream",
          "name": "stdout",
          "text": [
            "Enter your name: ivan solika\n",
            "Enter your age: 19\n",
            "Your current location: Mombasa\n",
            "Hello, my name is ivan solika, I am 19 years old and I currently live in Mombasa\n"
          ]
        }
      ],
      "source": [
        "name = input(\"Enter your name: \")  # user input\n",
        "age = input(\"Enter your age: \")  # user input\n",
        "location = input(\"Your current location: \")  # user input\n",
        "print(\"Hello, my name is \" + name + \", I am \" + age + \" years old and I currently live in \" + location)"
      ]
    },
    {
      "cell_type": "markdown",
      "source": [
        "# New Section"
      ],
      "metadata": {
        "id": "0WcIPqtEHb6G"
      }
    }
  ]
}